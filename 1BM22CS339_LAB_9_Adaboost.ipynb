{
  "nbformat": 4,
  "nbformat_minor": 0,
  "metadata": {
    "colab": {
      "provenance": [],
      "authorship_tag": "ABX9TyPKQZSnKz08rQgvz7Z8DzJq",
      "include_colab_link": true
    },
    "kernelspec": {
      "name": "python3",
      "display_name": "Python 3"
    },
    "language_info": {
      "name": "python"
    }
  },
  "cells": [
    {
      "cell_type": "markdown",
      "metadata": {
        "id": "view-in-github",
        "colab_type": "text"
      },
      "source": [
        "<a href=\"https://colab.research.google.com/github/VedithVarma/ML_LAB_1BM22CS339/blob/main/1BM22CS339_LAB_9_Adaboost.ipynb\" target=\"_parent\"><img src=\"https://colab.research.google.com/assets/colab-badge.svg\" alt=\"Open In Colab\"/></a>"
      ]
    },
    {
      "cell_type": "code",
      "source": [
        "import pandas as pd\n",
        "from sklearn.model_selection import train_test_split\n",
        "from sklearn.preprocessing import LabelEncoder\n",
        "from sklearn.ensemble import AdaBoostClassifier\n",
        "from sklearn.tree import DecisionTreeClassifier\n",
        "from sklearn.linear_model import LogisticRegression\n",
        "from sklearn.metrics import accuracy_score, confusion_matrix\n",
        "from sklearn.ensemble import  RandomForestClassifier\n",
        "# Load the data (assume \"income.csv\" is already downloaded)\n",
        "df = pd.read_csv('income.csv')\n",
        "\n",
        "# Let's check the columns to see what we're dealing with\n",
        "print(df.head())\n",
        "\n",
        "# Preprocessing: Encode categorical data if necessary (in this case 'income_level' is categorical)\n",
        "encoder = LabelEncoder()\n",
        "df['income_level'] = encoder.fit_transform(df['income_level'])\n",
        "\n",
        "# Splitting the data into features (X) and target (y)\n",
        "X = df.drop('income_level', axis=1)\n",
        "y = df['income_level']\n",
        "\n",
        "# Split the data into 80% training and 20% testing\n",
        "X_train, X_test, y_train, y_test = train_test_split(X, y, test_size=0.2, random_state=42)\n"
      ],
      "metadata": {
        "colab": {
          "base_uri": "https://localhost:8080/"
        },
        "id": "xz5AZkSC0BdK",
        "outputId": "a361fe12-d14d-4932-fed1-dd35d70a65f6"
      },
      "execution_count": 32,
      "outputs": [
        {
          "output_type": "stream",
          "name": "stdout",
          "text": [
            "   age  fnlwgt  education_num  capital_gain  capital_loss  hours_per_week  \\\n",
            "0   39   77516             13          2174             0              40   \n",
            "1   50   83311             13             0             0              13   \n",
            "2   38  215646              9             0             0              40   \n",
            "3   53  234721              7             0             0              40   \n",
            "4   28  338409             13             0             0              40   \n",
            "\n",
            "   income_level  \n",
            "0             0  \n",
            "1             0  \n",
            "2             0  \n",
            "3             0  \n",
            "4             0  \n"
          ]
        }
      ]
    },
    {
      "cell_type": "code",
      "source": [
        "# Initialize the AdaBoost model with Random Forest as the base classifier\n",
        "ada_boost = AdaBoostClassifier(RandomForestClassifier(n_estimators=10, max_depth=5, random_state=42), n_estimators=50, learning_rate=1.0)\n",
        "\n",
        "# Train the AdaBoost model\n",
        "ada_boost.fit(X_train, y_train)\n",
        "\n",
        "# Predictions\n",
        "y_pred = ada_boost.predict(X_test)\n",
        "\n",
        "# Evaluate accuracy and confusion matrix\n",
        "accuracy = accuracy_score(y_test, y_pred)\n",
        "conf_matrix = confusion_matrix(y_test, y_pred)\n",
        "\n",
        "print(f\"Accuracy: {accuracy}\")\n",
        "print(f\"Confusion Matrix:\\n{conf_matrix}\")\n"
      ],
      "metadata": {
        "colab": {
          "base_uri": "https://localhost:8080/"
        },
        "id": "Mz0o8T_b0c3S",
        "outputId": "b3b6a844-ae33-4c1d-974a-33387c5296a9"
      },
      "execution_count": 33,
      "outputs": [
        {
          "output_type": "stream",
          "name": "stdout",
          "text": [
            "Accuracy: 0.8368307912785341\n",
            "Confusion Matrix:\n",
            "[[7039  375]\n",
            " [1219 1136]]\n"
          ]
        }
      ]
    },
    {
      "cell_type": "code",
      "source": [
        "from sklearn.datasets import load_iris\n",
        "from sklearn.model_selection import train_test_split\n",
        "from sklearn.ensemble import AdaBoostClassifier\n",
        "from sklearn.tree import DecisionTreeClassifier\n",
        "from sklearn.metrics import accuracy_score\n",
        "\n",
        "# Load the Iris dataset\n",
        "iris = load_iris()\n",
        "X = iris.data\n",
        "y = iris.target\n",
        "\n",
        "# Split the dataset into 80% training and 20% testing\n",
        "X_train, X_test, y_train, y_test = train_test_split(X, y, test_size=0.2, random_state=42)\n",
        "\n",
        "base_classifier = RandomForestClassifier(n_estimators=10, max_depth=5, random_state=42)\n",
        "# Initialize AdaBoost with Decision Tree as base classifier\n",
        "ada_boost = AdaBoostClassifier(base_classifier, n_estimators=50)\n",
        "\n",
        "# Train the model\n",
        "ada_boost.fit(X_train, y_train)\n",
        "\n",
        "# Evaluate accuracy on the test set\n",
        "y_pred = ada_boost.predict(X_test)\n",
        "accuracy = accuracy_score(y_test, y_pred)\n",
        "\n",
        "print(f\"Accuracy of AdaBoost on Iris dataset: {accuracy}\")\n"
      ],
      "metadata": {
        "colab": {
          "base_uri": "https://localhost:8080/"
        },
        "id": "5Hx2yBr40eCS",
        "outputId": "ac7ebf52-3583-4e07-e0c1-9139a6071a92"
      },
      "execution_count": 34,
      "outputs": [
        {
          "output_type": "stream",
          "name": "stdout",
          "text": [
            "Accuracy of AdaBoost on Iris dataset: 1.0\n"
          ]
        }
      ]
    },
    {
      "cell_type": "code",
      "source": [
        "# Varying n_estimators and measuring the accuracy\n",
        "estimators = [10, 50, 100, 200, 500]\n",
        "for n in estimators:\n",
        "    ada_boost = AdaBoostClassifier(base_classifier, n_estimators=n)\n",
        "    ada_boost.fit(X_train, y_train)\n",
        "    y_pred = ada_boost.predict(X_test)\n",
        "    accuracy = accuracy_score(y_test, y_pred)\n",
        "    print(f\"Accuracy with n_estimators={n}: {accuracy}\")\n"
      ],
      "metadata": {
        "colab": {
          "base_uri": "https://localhost:8080/"
        },
        "id": "6FSAt6SA0tTi",
        "outputId": "b8de34c4-d530-4c45-c70a-becd1aad3af6"
      },
      "execution_count": 35,
      "outputs": [
        {
          "output_type": "stream",
          "name": "stdout",
          "text": [
            "Accuracy with n_estimators=10: 1.0\n",
            "Accuracy with n_estimators=50: 1.0\n",
            "Accuracy with n_estimators=100: 1.0\n",
            "Accuracy with n_estimators=200: 1.0\n",
            "Accuracy with n_estimators=500: 1.0\n"
          ]
        }
      ]
    },
    {
      "cell_type": "code",
      "source": [
        "# Varying n_estimators and learning_rate\n",
        "learning_rates = [0.1, 0.5, 1.0, 1.5]\n",
        "n_estimators_values = [50, 100, 200]\n",
        "\n",
        "for lr in learning_rates:\n",
        "    for n in n_estimators_values:\n",
        "        ada_boost = AdaBoostClassifier(base_classifier,\n",
        "                                      n_estimators=n, learning_rate=lr)\n",
        "        ada_boost.fit(X_train, y_train)\n",
        "        y_pred = ada_boost.predict(X_test)\n",
        "        accuracy = accuracy_score(y_test, y_pred)\n",
        "        print(f\"Accuracy with n_estimators={n} and learning_rate={lr}: {accuracy}\")\n"
      ],
      "metadata": {
        "colab": {
          "base_uri": "https://localhost:8080/"
        },
        "id": "ki1fsSrF04Bq",
        "outputId": "5a8cf825-a47f-4dd5-8bc0-e70e461b2b20"
      },
      "execution_count": 36,
      "outputs": [
        {
          "output_type": "stream",
          "name": "stdout",
          "text": [
            "Accuracy with n_estimators=50 and learning_rate=0.1: 1.0\n",
            "Accuracy with n_estimators=100 and learning_rate=0.1: 1.0\n",
            "Accuracy with n_estimators=200 and learning_rate=0.1: 1.0\n",
            "Accuracy with n_estimators=50 and learning_rate=0.5: 1.0\n",
            "Accuracy with n_estimators=100 and learning_rate=0.5: 1.0\n",
            "Accuracy with n_estimators=200 and learning_rate=0.5: 1.0\n",
            "Accuracy with n_estimators=50 and learning_rate=1.0: 1.0\n",
            "Accuracy with n_estimators=100 and learning_rate=1.0: 1.0\n",
            "Accuracy with n_estimators=200 and learning_rate=1.0: 1.0\n",
            "Accuracy with n_estimators=50 and learning_rate=1.5: 1.0\n",
            "Accuracy with n_estimators=100 and learning_rate=1.5: 1.0\n",
            "Accuracy with n_estimators=200 and learning_rate=1.5: 1.0\n"
          ]
        }
      ]
    },
    {
      "cell_type": "code",
      "source": [
        "from sklearn.linear_model import LogisticRegression\n",
        "\n",
        "# Using Logistic Regression as base estimator in AdaBoost\n",
        "ada_boost_lr = AdaBoostClassifier(LogisticRegression(max_iter=1000), n_estimators=50)\n",
        "ada_boost_lr.fit(X_train, y_train)\n",
        "y_pred_lr = ada_boost_lr.predict(X_test)\n",
        "accuracy_lr = accuracy_score(y_test, y_pred_lr)\n",
        "print(f\"Accuracy with Logistic Regression base estimator: {accuracy_lr}\")\n"
      ],
      "metadata": {
        "colab": {
          "base_uri": "https://localhost:8080/"
        },
        "id": "zn2cHfOa1CfD",
        "outputId": "c18bf9d7-9d8f-4f3b-ee08-9d9098f00a3a"
      },
      "execution_count": 37,
      "outputs": [
        {
          "output_type": "stream",
          "name": "stdout",
          "text": [
            "Accuracy with Logistic Regression base estimator: 0.9333333333333333\n"
          ]
        }
      ]
    },
    {
      "cell_type": "code",
      "source": [
        "# Using Decision Tree as base estimator in AdaBoost\n",
        "ada_boost_tree = AdaBoostClassifier(DecisionTreeClassifier(max_depth=1), n_estimators=50)\n",
        "ada_boost_tree.fit(X_train, y_train)\n",
        "y_pred_tree = ada_boost_tree.predict(X_test)\n",
        "accuracy_tree = accuracy_score(y_test, y_pred_tree)\n",
        "print(f\"Accuracy with Decision Tree base estimator: {accuracy_tree}\")\n"
      ],
      "metadata": {
        "colab": {
          "base_uri": "https://localhost:8080/"
        },
        "id": "sOFgZffu1HN6",
        "outputId": "77342ea9-2b34-47bf-b0ac-a3d6861caf4a"
      },
      "execution_count": 38,
      "outputs": [
        {
          "output_type": "stream",
          "name": "stdout",
          "text": [
            "Accuracy with Decision Tree base estimator: 0.9333333333333333\n"
          ]
        }
      ]
    },
    {
      "cell_type": "code",
      "source": [],
      "metadata": {
        "id": "z80IsDQ32Twy"
      },
      "execution_count": null,
      "outputs": []
    }
  ]
}